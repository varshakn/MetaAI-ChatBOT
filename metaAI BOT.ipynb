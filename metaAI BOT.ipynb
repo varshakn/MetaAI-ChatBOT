{
 "cells": [
  {
   "cell_type": "code",
   "execution_count": null,
   "id": "95674ab8",
   "metadata": {},
   "outputs": [],
   "source": [
    "!python -m venv chatbot-env"
   ]
  },
  {
   "cell_type": "code",
   "execution_count": null,
   "id": "86502d38",
   "metadata": {},
   "outputs": [],
   "source": [
    "!.\\chatbot-env\\Scripts\\Activate.ps1"
   ]
  },
  {
   "cell_type": "code",
   "execution_count": null,
   "id": "22673a51",
   "metadata": {},
   "outputs": [],
   "source": [
    "!pip install nltk transformers torch"
   ]
  },
  {
   "cell_type": "code",
   "execution_count": null,
   "id": "f31af09c",
   "metadata": {},
   "outputs": [],
   "source": [
    "!python -m venv chatbot-env\n"
   ]
  },
  {
   "cell_type": "code",
   "execution_count": null,
   "id": "2510a097",
   "metadata": {},
   "outputs": [],
   "source": [
    "!.\\chatbot-env\\Scripts\\Activate.ps1\n"
   ]
  },
  {
   "cell_type": "code",
   "execution_count": null,
   "id": "7d840735",
   "metadata": {},
   "outputs": [],
   "source": [
    "from transformers import pipeline, Conversation\n"
   ]
  },
  {
   "cell_type": "code",
   "execution_count": null,
   "id": "3b7b5dfa",
   "metadata": {},
   "outputs": [],
   "source": [
    "# Load the conversational pipeline with a pre-trained model and adjust settings for longer input\n",
    "chatbot = pipeline(\n",
    "    \"conversational\",\n",
    "    model=\"facebook/blenderbot-400M-distill\",\n",
    "    tokenizer=\"facebook/blenderbot-400M-distill\",\n",
    "    max_length=200,  # Adjust max_length for longer responses\n",
    "    min_length=30,   # Optionally adjust min_length for shorter responses\n",
    "    truncation=True  # Ensure inputs are properly handled if they exceed max length\n",
    ")\n"
   ]
  },
  {
   "cell_type": "code",
   "execution_count": null,
   "id": "a07b04ee",
   "metadata": {},
   "outputs": [],
   "source": [
    "# Define a function to interact with the chatbot\n",
    "def chat_with_bot():\n",
    "    print(\"Welcome to the chatbot! Type 'exit' to quit.\")\n",
    "    conversation = Conversation()  # Initialize a new Conversation object\n",
    "    \n",
    "    while True:\n",
    "        user_input = input(\"You: \")\n",
    "        if user_input.lower() == \"exit\":\n",
    "            print(\"Bot: Goodbye!\")\n",
    "            break\n",
    "        \n",
    "        conversation.add_user_input(user_input)  # Add user input to the conversation\n",
    "        response = chatbot(conversation)  # Get response from the chatbot\n",
    "        print(f\"Bot: {response.generated_responses[-1]}\")  # Print the last generated response\n"
   ]
  },
  {
   "cell_type": "code",
   "execution_count": null,
   "id": "7705c52c",
   "metadata": {},
   "outputs": [],
   "source": [
    "chat_with_bot()\n"
   ]
  },
  {
   "cell_type": "code",
   "execution_count": null,
   "id": "132717fa",
   "metadata": {},
   "outputs": [],
   "source": []
  }
 ],
 "metadata": {
  "kernelspec": {
   "display_name": "Python 3 (ipykernel)",
   "language": "python",
   "name": "python3"
  },
  "language_info": {
   "codemirror_mode": {
    "name": "ipython",
    "version": 3
   },
   "file_extension": ".py",
   "mimetype": "text/x-python",
   "name": "python",
   "nbconvert_exporter": "python",
   "pygments_lexer": "ipython3",
   "version": "3.11.5"
  }
 },
 "nbformat": 4,
 "nbformat_minor": 5
}
